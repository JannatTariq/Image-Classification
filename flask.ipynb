{
 "cells": [
  {
   "cell_type": "code",
   "execution_count": 1,
   "metadata": {},
   "outputs": [
    {
     "name": "stdout",
     "output_type": "stream",
     "text": [
      " * Serving Flask app '__main__'\n",
      " * Debug mode: off\n"
     ]
    },
    {
     "name": "stderr",
     "output_type": "stream",
     "text": [
      "WARNING: This is a development server. Do not use it in a production deployment. Use a production WSGI server instead.\n",
      " * Running on http://127.0.0.1:5000\n",
      "Press CTRL+C to quit\n",
      "127.0.0.1 - - [11/May/2023 22:44:30] \"GET / HTTP/1.1\" 200 -\n",
      "127.0.0.1 - - [11/May/2023 22:44:31] \"GET /static/style.css HTTP/1.1\" 200 -\n",
      "127.0.0.1 - - [11/May/2023 22:44:32] \"GET /favicon.ico HTTP/1.1\" 404 -\n"
     ]
    }
   ],
   "source": [
    "from flask import Flask, render_template, request\n",
    "from PIL import Image\n",
    "import numpy as np\n",
    "import tensorflow as tf\n",
    "\n",
    "app = Flask(__name__, static_folder='static')\n",
    "model = tf.keras.models.load_model('mnist1.h5')\n",
    "\n",
    "@app.route('/', methods=['GET', 'POST'])\n",
    "def index():\n",
    "    if request.method == 'POST':\n",
    "        # Get the uploaded image file\n",
    "        file = request.files['file']\n",
    "        # Open the image using Pillow\n",
    "        pil_image = Image.open(file).convert('L')\n",
    "        # Resize the image to 28x28\n",
    "        pil_image = pil_image.resize((28, 28))\n",
    "        # Convert the image to a numpy array\n",
    "        np_image = np.array(pil_image)\n",
    "        # Reshape the image to a 1D array with 784 elements\n",
    "        np_image = np_image.reshape(1, 784)\n",
    "        # Normalize the pixel values\n",
    "        np_image = np_image / 255.0\n",
    "        # Use the model to predict the class of the input image\n",
    "        prediction = model.predict(np_image)\n",
    "        # Get the predicted class label\n",
    "        predicted_class = np.argmax(prediction[0])\n",
    "        return render_template('index.html', prediction=predicted_class)\n",
    "    return render_template('index.html')\n",
    "\n",
    "if __name__ == '__main__':\n",
    "    app.run()\n"
   ]
  }
 ],
 "metadata": {
  "kernelspec": {
   "display_name": "Python 3",
   "language": "python",
   "name": "python3"
  },
  "language_info": {
   "codemirror_mode": {
    "name": "ipython",
    "version": 3
   },
   "file_extension": ".py",
   "mimetype": "text/x-python",
   "name": "python",
   "nbconvert_exporter": "python",
   "pygments_lexer": "ipython3",
   "version": "3.11.3"
  },
  "orig_nbformat": 4
 },
 "nbformat": 4,
 "nbformat_minor": 2
}
